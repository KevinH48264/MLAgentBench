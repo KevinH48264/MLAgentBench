{
 "cells": [
  {
   "cell_type": "code",
   "execution_count": null,
   "metadata": {},
   "outputs": [],
   "source": [
    "tool_outputs [{'tool_call_id': 'call_gEcBlLIMiT0vj9R6z1cSBfF7', 'output': 'Tool function understandFile for tool_id call_gEcBlLIMiT0vj9R6z1cSBfF7 is not callable with arguments {\"file_name\":\"data_description.txt\",\"things_to_look_for\":\"The data features and their descriptions.\"}.'}]"
   ]
  },
  {
   "cell_type": "code",
   "execution_count": 7,
   "metadata": {},
   "outputs": [],
   "source": [
    "def understand_file(file_name, things_to_look_for, work_dir = \".\", **kwargs):\n",
    "\n",
    "    lines = read_file(file_name, work_dir = work_dir, **kwargs).split(\"\\n\")\n",
    "    # group lines to blocks so that each block has at most 10000 characters\n",
    "    counter = 0\n",
    "    blocks = []\n",
    "    while counter < len(lines):\n",
    "        block = []\n",
    "        start_line_number = counter + 1\n",
    "        while counter < len(lines) and len(\"\\n\".join(block)) + len(lines[counter]) < 10000:\n",
    "            block.append(lines[counter])\n",
    "            counter += 1\n",
    "        if len(block) > 0:\n",
    "            end_line_number = counter \n",
    "            blocks.append((\"\\n\".join(block), start_line_number, end_line_number))\n",
    "        else:\n",
    "            end_line_number = start_line_number\n",
    "            # probably a file of one/few very long line; split by 10000 characters\n",
    "            for i in range(0, len(lines[counter]), 10000):\n",
    "                blocks.append((lines[counter][i:i+10000], start_line_number, end_line_number))\n",
    "            counter += 1\n",
    "\n",
    "    descriptions  = []\n",
    "    for idx, (b, start_line_number, end_line_number) in enumerate(blocks):\n",
    "        start_char_number = sum([len(b) for b in blocks[:idx]])\n",
    "        end_char_number = start_line_number + len(b)\n",
    "        prompt = f\"\"\"Given this (partial) file from line {start_line_number} character {start_char_number} to line {end_line_number} character {end_char_number}: \n",
    "    ``` \n",
    "    {b}\n",
    "    ```\n",
    "    Here is a detailed description on what to look for and what should returned: {things_to_look_for}\n",
    "    The description should short and also reference crtical lines in the script relevant to what is being looked for. Only describe what is objectively confirmed by the file content. Do not include guessed numbers. If you cannot find the answer to certain parts of the request, you should say \"In this segment, I cannot find ...\".\n",
    "    \"\"\"\n",
    "\n",
    "        completion = complete_text_fast(prompt, log_file=kwargs[\"log_file\"]+f\"_{idx}\")\n",
    "        descriptions.append(completion)\n",
    "    if len(descriptions) == 1:\n",
    "        return descriptions[0]\n",
    "    else:\n",
    "        descriptions = \"\\n\\n\".join([\"Segment {idx}: \\n\\n\" + s for s in descriptions])\n",
    "        prompt = f\"\"\"Given the relevant observations for each segments of a file, summarize to get a cohesive description of the entire file on what to look for and what should returned: {things_to_look_for}\n",
    "    {descriptions}\n",
    "    \"\"\"\n",
    "\n",
    "        completion = complete_text_fast(prompt, log_file=kwargs[\"log_file\"])\n",
    "\n",
    "        return completion"
   ]
  },
  {
   "cell_type": "code",
   "execution_count": 8,
   "metadata": {},
   "outputs": [],
   "source": [
    "tool_outputs = [{'tool_call_id': 'call_gEcBlLIMiT0vj9R6z1cSBfF7', 'output': 'Tool function understandFile for tool_id call_gEcBlLIMiT0vj9R6z1cSBfF7 is not callable with arguments {\"file_name\":\"data_description.txt\",\"things_to_look_for\":\"The data features and their descriptions.\"}.'}]"
   ]
  },
  {
   "cell_type": "code",
   "execution_count": 9,
   "metadata": {},
   "outputs": [
    {
     "ename": "NameError",
     "evalue": "name 'read_file' is not defined",
     "output_type": "error",
     "traceback": [
      "\u001b[1;31m---------------------------------------------------------------------------\u001b[0m",
      "\u001b[1;31mNameError\u001b[0m                                 Traceback (most recent call last)",
      "\u001b[1;32mc:\\Users\\kevihuang\\OneDrive - Microsoft\\Desktop\\projects\\autoscious-carbon-capture\\MLAgentBench\\MLAgentBench\\agents\\test.ipynb Cell 4\u001b[0m line \u001b[0;36m1\n\u001b[1;32m----> <a href='vscode-notebook-cell:/c%3A/Users/kevihuang/OneDrive%20-%20Microsoft/Desktop/projects/autoscious-carbon-capture/MLAgentBench/MLAgentBench/agents/test.ipynb#W3sZmlsZQ%3D%3D?line=0'>1</a>\u001b[0m understand_file(\u001b[39m\"\u001b[39;49m\u001b[39mdata_description.txt\u001b[39;49m\u001b[39m\"\u001b[39;49m, \u001b[39m\"\u001b[39;49m\u001b[39mThe data features and their descriptions.\u001b[39;49m\u001b[39m\"\u001b[39;49m)\n",
      "\u001b[1;32mc:\\Users\\kevihuang\\OneDrive - Microsoft\\Desktop\\projects\\autoscious-carbon-capture\\MLAgentBench\\MLAgentBench\\agents\\test.ipynb Cell 4\u001b[0m line \u001b[0;36m3\n\u001b[0;32m      <a href='vscode-notebook-cell:/c%3A/Users/kevihuang/OneDrive%20-%20Microsoft/Desktop/projects/autoscious-carbon-capture/MLAgentBench/MLAgentBench/agents/test.ipynb#W3sZmlsZQ%3D%3D?line=0'>1</a>\u001b[0m \u001b[39mdef\u001b[39;00m \u001b[39munderstand_file\u001b[39m( file_name, things_to_look_for, work_dir \u001b[39m=\u001b[39m \u001b[39m\"\u001b[39m\u001b[39m.\u001b[39m\u001b[39m\"\u001b[39m, \u001b[39m*\u001b[39m\u001b[39m*\u001b[39mkwargs):\n\u001b[1;32m----> <a href='vscode-notebook-cell:/c%3A/Users/kevihuang/OneDrive%20-%20Microsoft/Desktop/projects/autoscious-carbon-capture/MLAgentBench/MLAgentBench/agents/test.ipynb#W3sZmlsZQ%3D%3D?line=2'>3</a>\u001b[0m     lines \u001b[39m=\u001b[39m read_file(file_name, work_dir \u001b[39m=\u001b[39m work_dir, \u001b[39m*\u001b[39m\u001b[39m*\u001b[39mkwargs)\u001b[39m.\u001b[39msplit(\u001b[39m\"\u001b[39m\u001b[39m\\n\u001b[39;00m\u001b[39m\"\u001b[39m)\n\u001b[0;32m      <a href='vscode-notebook-cell:/c%3A/Users/kevihuang/OneDrive%20-%20Microsoft/Desktop/projects/autoscious-carbon-capture/MLAgentBench/MLAgentBench/agents/test.ipynb#W3sZmlsZQ%3D%3D?line=3'>4</a>\u001b[0m     \u001b[39m# group lines to blocks so that each block has at most 10000 characters\u001b[39;00m\n\u001b[0;32m      <a href='vscode-notebook-cell:/c%3A/Users/kevihuang/OneDrive%20-%20Microsoft/Desktop/projects/autoscious-carbon-capture/MLAgentBench/MLAgentBench/agents/test.ipynb#W3sZmlsZQ%3D%3D?line=4'>5</a>\u001b[0m     counter \u001b[39m=\u001b[39m \u001b[39m0\u001b[39m\n",
      "\u001b[1;31mNameError\u001b[0m: name 'read_file' is not defined"
     ]
    }
   ],
   "source": [
    "understand_file(\"data_description.txt\", \"The data features and their descriptions.\")"
   ]
  },
  {
   "cell_type": "code",
   "execution_count": null,
   "metadata": {},
   "outputs": [],
   "source": []
  }
 ],
 "metadata": {
  "kernelspec": {
   "display_name": "base",
   "language": "python",
   "name": "python3"
  },
  "language_info": {
   "codemirror_mode": {
    "name": "ipython",
    "version": 3
   },
   "file_extension": ".py",
   "mimetype": "text/x-python",
   "name": "python",
   "nbconvert_exporter": "python",
   "pygments_lexer": "ipython3",
   "version": "3.11.5"
  }
 },
 "nbformat": 4,
 "nbformat_minor": 2
}
